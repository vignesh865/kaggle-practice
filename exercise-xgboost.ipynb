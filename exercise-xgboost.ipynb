{
 "cells": [
  {
   "cell_type": "markdown",
   "id": "d07fb101",
   "metadata": {
    "papermill": {
     "duration": 0.023529,
     "end_time": "2022-04-29T15:47:50.284484",
     "exception": false,
     "start_time": "2022-04-29T15:47:50.260955",
     "status": "completed"
    },
    "tags": []
   },
   "source": [
    "**This notebook is an exercise in the [Intermediate Machine Learning](https://www.kaggle.com/learn/intermediate-machine-learning) course.  You can reference the tutorial at [this link](https://www.kaggle.com/alexisbcook/xgboost).**\n",
    "\n",
    "---\n"
   ]
  },
  {
   "cell_type": "markdown",
   "id": "db066a72",
   "metadata": {
    "papermill": {
     "duration": 0.0216,
     "end_time": "2022-04-29T15:47:50.328445",
     "exception": false,
     "start_time": "2022-04-29T15:47:50.306845",
     "status": "completed"
    },
    "tags": []
   },
   "source": [
    "In this exercise, you will use your new knowledge to train a model with **gradient boosting**.\n",
    "\n",
    "# Setup\n",
    "\n",
    "The questions below will give you feedback on your work. Run the following cell to set up the feedback system."
   ]
  },
  {
   "cell_type": "code",
   "execution_count": 1,
   "id": "d44d32b4",
   "metadata": {
    "execution": {
     "iopub.execute_input": "2022-04-29T15:47:50.374275Z",
     "iopub.status.busy": "2022-04-29T15:47:50.373625Z",
     "iopub.status.idle": "2022-04-29T15:47:52.809402Z",
     "shell.execute_reply": "2022-04-29T15:47:52.807987Z"
    },
    "papermill": {
     "duration": 2.462971,
     "end_time": "2022-04-29T15:47:52.813198",
     "exception": false,
     "start_time": "2022-04-29T15:47:50.350227",
     "status": "completed"
    },
    "tags": []
   },
   "outputs": [
    {
     "name": "stdout",
     "output_type": "stream",
     "text": [
      "Setup Complete\n"
     ]
    }
   ],
   "source": [
    "# Set up code checking\n",
    "import os\n",
    "if not os.path.exists(\"../input/train.csv\"):\n",
    "    os.symlink(\"../input/home-data-for-ml-course/train.csv\", \"../input/train.csv\")  \n",
    "    os.symlink(\"../input/home-data-for-ml-course/test.csv\", \"../input/test.csv\") \n",
    "from learntools.core import binder\n",
    "binder.bind(globals())\n",
    "from learntools.ml_intermediate.ex6 import *\n",
    "print(\"Setup Complete\")"
   ]
  },
  {
   "cell_type": "markdown",
   "id": "94380c81",
   "metadata": {
    "papermill": {
     "duration": 0.022381,
     "end_time": "2022-04-29T15:47:52.859633",
     "exception": false,
     "start_time": "2022-04-29T15:47:52.837252",
     "status": "completed"
    },
    "tags": []
   },
   "source": [
    "You will work with the [Housing Prices Competition for Kaggle Learn Users](https://www.kaggle.com/c/home-data-for-ml-course) dataset from the previous exercise. \n",
    "\n",
    "![Ames Housing dataset image](https://i.imgur.com/lTJVG4e.png)\n",
    "\n",
    "Run the next code cell without changes to load the training and validation sets in `X_train`, `X_valid`, `y_train`, and `y_valid`.  The test set is loaded in `X_test`."
   ]
  },
  {
   "cell_type": "code",
   "execution_count": 2,
   "id": "aa7556a7",
   "metadata": {
    "execution": {
     "iopub.execute_input": "2022-04-29T15:47:52.906814Z",
     "iopub.status.busy": "2022-04-29T15:47:52.905876Z",
     "iopub.status.idle": "2022-04-29T15:47:53.107630Z",
     "shell.execute_reply": "2022-04-29T15:47:53.106651Z"
    },
    "papermill": {
     "duration": 0.228005,
     "end_time": "2022-04-29T15:47:53.110015",
     "exception": false,
     "start_time": "2022-04-29T15:47:52.882010",
     "status": "completed"
    },
    "tags": []
   },
   "outputs": [],
   "source": [
    "import pandas as pd\n",
    "from sklearn.model_selection import train_test_split\n",
    "\n",
    "# Read the data\n",
    "X = pd.read_csv('../input/train.csv', index_col='Id')\n",
    "X_test_full = pd.read_csv('../input/test.csv', index_col='Id')\n",
    "\n",
    "# Remove rows with missing target, separate target from predictors\n",
    "X.dropna(axis=0, subset=['SalePrice'], inplace=True)\n",
    "y = X.SalePrice              \n",
    "X.drop(['SalePrice'], axis=1, inplace=True)\n",
    "\n",
    "# Break off validation set from training data\n",
    "X_train_full, X_valid_full, y_train, y_valid = train_test_split(X, y, train_size=0.8, test_size=0.2,\n",
    "                                                                random_state=0)\n",
    "\n",
    "# \"Cardinality\" means the number of unique values in a column\n",
    "# Select categorical columns with relatively low cardinality (convenient but arbitrary)\n",
    "low_cardinality_cols = [cname for cname in X_train_full.columns if X_train_full[cname].nunique() < 10 and \n",
    "                        X_train_full[cname].dtype == \"object\"]\n",
    "\n",
    "# Select numeric columns\n",
    "numeric_cols = [cname for cname in X_train_full.columns if X_train_full[cname].dtype in ['int64', 'float64']]\n",
    "\n",
    "# Keep selected columns only\n",
    "my_cols = low_cardinality_cols + numeric_cols\n",
    "X_train = X_train_full[my_cols].copy()\n",
    "X_valid = X_valid_full[my_cols].copy()\n",
    "X_test = X_test_full[my_cols].copy()\n",
    "\n",
    "# One-hot encode the data (to shorten the code, we use pandas)\n",
    "X_train = pd.get_dummies(X_train)\n",
    "X_valid = pd.get_dummies(X_valid)\n",
    "X_test = pd.get_dummies(X_test)\n",
    "X_train, X_valid = X_train.align(X_valid, join='left', axis=1)\n",
    "X_train, X_test = X_train.align(X_test, join='left', axis=1)"
   ]
  },
  {
   "cell_type": "markdown",
   "id": "10513060",
   "metadata": {
    "papermill": {
     "duration": 0.022265,
     "end_time": "2022-04-29T15:47:53.154822",
     "exception": false,
     "start_time": "2022-04-29T15:47:53.132557",
     "status": "completed"
    },
    "tags": []
   },
   "source": [
    "# Step 1: Build model\n",
    "\n",
    "### Part A\n",
    "\n",
    "In this step, you'll build and train your first model with gradient boosting.\n",
    "\n",
    "- Begin by setting `my_model_1` to an XGBoost model.  Use the [XGBRegressor](https://xgboost.readthedocs.io/en/latest/python/python_api.html#xgboost.XGBRegressor) class, and set the random seed to 0 (`random_state=0`).  **Leave all other parameters as default.**\n",
    "- Then, fit the model to the training data in `X_train` and `y_train`."
   ]
  },
  {
   "cell_type": "code",
   "execution_count": 3,
   "id": "3d68fbe3",
   "metadata": {
    "execution": {
     "iopub.execute_input": "2022-04-29T15:47:53.201746Z",
     "iopub.status.busy": "2022-04-29T15:47:53.200805Z",
     "iopub.status.idle": "2022-04-29T15:47:54.136572Z",
     "shell.execute_reply": "2022-04-29T15:47:54.135991Z"
    },
    "papermill": {
     "duration": 0.961367,
     "end_time": "2022-04-29T15:47:54.138505",
     "exception": false,
     "start_time": "2022-04-29T15:47:53.177138",
     "status": "completed"
    },
    "tags": []
   },
   "outputs": [
    {
     "data": {
      "application/javascript": [
       "parent.postMessage({\"jupyterEvent\": \"custom.exercise_interaction\", \"data\": {\"outcomeType\": 1, \"valueTowardsCompletion\": 0.5, \"interactionType\": 1, \"questionType\": 2, \"questionId\": \"1.1_Model1A\", \"learnToolsVersion\": \"0.3.4\", \"failureMessage\": \"\", \"exceptionClass\": \"\", \"trace\": \"\"}}, \"*\")"
      ],
      "text/plain": [
       "<IPython.core.display.Javascript object>"
      ]
     },
     "metadata": {},
     "output_type": "display_data"
    },
    {
     "data": {
      "text/markdown": [
       "<span style=\"color:#33cc33\">Correct</span>"
      ],
      "text/plain": [
       "Correct"
      ]
     },
     "metadata": {},
     "output_type": "display_data"
    }
   ],
   "source": [
    "from xgboost import XGBRegressor\n",
    "\n",
    "# Define the model\n",
    "my_model_1 = XGBRegressor(random_state=0) # Your code here\n",
    "\n",
    "# Fit the model\n",
    "my_model_1.fit(X_train, y_train) # Your code here\n",
    "\n",
    "# Check your answer\n",
    "step_1.a.check()"
   ]
  },
  {
   "cell_type": "code",
   "execution_count": 4,
   "id": "40029057",
   "metadata": {
    "execution": {
     "iopub.execute_input": "2022-04-29T15:47:54.187693Z",
     "iopub.status.busy": "2022-04-29T15:47:54.187375Z",
     "iopub.status.idle": "2022-04-29T15:47:54.191143Z",
     "shell.execute_reply": "2022-04-29T15:47:54.190265Z"
    },
    "papermill": {
     "duration": 0.030609,
     "end_time": "2022-04-29T15:47:54.193072",
     "exception": false,
     "start_time": "2022-04-29T15:47:54.162463",
     "status": "completed"
    },
    "tags": []
   },
   "outputs": [],
   "source": [
    "# Lines below will give you a hint or solution code\n",
    "#step_1.a.hint()\n",
    "#step_1.a.solution()"
   ]
  },
  {
   "cell_type": "markdown",
   "id": "712cedb3",
   "metadata": {
    "papermill": {
     "duration": 0.025492,
     "end_time": "2022-04-29T15:47:54.242495",
     "exception": false,
     "start_time": "2022-04-29T15:47:54.217003",
     "status": "completed"
    },
    "tags": []
   },
   "source": [
    "### Part B\n",
    "\n",
    "Set `predictions_1` to the model's predictions for the validation data.  Recall that the validation features are stored in `X_valid`."
   ]
  },
  {
   "cell_type": "code",
   "execution_count": 5,
   "id": "37481a90",
   "metadata": {
    "execution": {
     "iopub.execute_input": "2022-04-29T15:47:54.292211Z",
     "iopub.status.busy": "2022-04-29T15:47:54.291382Z",
     "iopub.status.idle": "2022-04-29T15:47:54.329222Z",
     "shell.execute_reply": "2022-04-29T15:47:54.328634Z"
    },
    "papermill": {
     "duration": 0.064509,
     "end_time": "2022-04-29T15:47:54.331048",
     "exception": false,
     "start_time": "2022-04-29T15:47:54.266539",
     "status": "completed"
    },
    "tags": []
   },
   "outputs": [
    {
     "data": {
      "application/javascript": [
       "parent.postMessage({\"jupyterEvent\": \"custom.exercise_interaction\", \"data\": {\"outcomeType\": 1, \"valueTowardsCompletion\": 0.5, \"interactionType\": 1, \"questionType\": 2, \"questionId\": \"1.2_Model1B\", \"learnToolsVersion\": \"0.3.4\", \"failureMessage\": \"\", \"exceptionClass\": \"\", \"trace\": \"\"}}, \"*\")"
      ],
      "text/plain": [
       "<IPython.core.display.Javascript object>"
      ]
     },
     "metadata": {},
     "output_type": "display_data"
    },
    {
     "data": {
      "text/markdown": [
       "<span style=\"color:#33cc33\">Correct</span>"
      ],
      "text/plain": [
       "Correct"
      ]
     },
     "metadata": {},
     "output_type": "display_data"
    }
   ],
   "source": [
    "from sklearn.metrics import mean_absolute_error\n",
    "\n",
    "# Get predictions\n",
    "predictions_1 = my_model_1.predict(X_valid) # Your code here\n",
    "\n",
    "# Check your answer\n",
    "step_1.b.check()"
   ]
  },
  {
   "cell_type": "code",
   "execution_count": 6,
   "id": "f6bd6238",
   "metadata": {
    "execution": {
     "iopub.execute_input": "2022-04-29T15:47:54.382989Z",
     "iopub.status.busy": "2022-04-29T15:47:54.382677Z",
     "iopub.status.idle": "2022-04-29T15:47:54.385942Z",
     "shell.execute_reply": "2022-04-29T15:47:54.385355Z"
    },
    "papermill": {
     "duration": 0.031183,
     "end_time": "2022-04-29T15:47:54.387703",
     "exception": false,
     "start_time": "2022-04-29T15:47:54.356520",
     "status": "completed"
    },
    "tags": []
   },
   "outputs": [],
   "source": [
    "# Lines below will give you a hint or solution code\n",
    "#step_1.b.hint()\n",
    "#step_1.b.solution()"
   ]
  },
  {
   "cell_type": "markdown",
   "id": "d3813aae",
   "metadata": {
    "papermill": {
     "duration": 0.024896,
     "end_time": "2022-04-29T15:47:54.438070",
     "exception": false,
     "start_time": "2022-04-29T15:47:54.413174",
     "status": "completed"
    },
    "tags": []
   },
   "source": [
    "### Part C\n",
    "\n",
    "Finally, use the `mean_absolute_error()` function to calculate the mean absolute error (MAE) corresponding to the predictions for the validation set.  Recall that the labels for the validation data are stored in `y_valid`."
   ]
  },
  {
   "cell_type": "code",
   "execution_count": 7,
   "id": "51c9fba3",
   "metadata": {
    "execution": {
     "iopub.execute_input": "2022-04-29T15:47:54.491654Z",
     "iopub.status.busy": "2022-04-29T15:47:54.491018Z",
     "iopub.status.idle": "2022-04-29T15:47:54.498514Z",
     "shell.execute_reply": "2022-04-29T15:47:54.497962Z"
    },
    "papermill": {
     "duration": 0.037039,
     "end_time": "2022-04-29T15:47:54.500357",
     "exception": false,
     "start_time": "2022-04-29T15:47:54.463318",
     "status": "completed"
    },
    "tags": []
   },
   "outputs": [
    {
     "data": {
      "application/javascript": [
       "parent.postMessage({\"jupyterEvent\": \"custom.exercise_interaction\", \"data\": {\"outcomeType\": 1, \"valueTowardsCompletion\": 0.5, \"interactionType\": 1, \"questionType\": 2, \"questionId\": \"1.3_Model1C\", \"learnToolsVersion\": \"0.3.4\", \"failureMessage\": \"\", \"exceptionClass\": \"\", \"trace\": \"\"}}, \"*\")"
      ],
      "text/plain": [
       "<IPython.core.display.Javascript object>"
      ]
     },
     "metadata": {},
     "output_type": "display_data"
    },
    {
     "data": {
      "text/markdown": [
       "<span style=\"color:#33cc33\">Correct</span>"
      ],
      "text/plain": [
       "Correct"
      ]
     },
     "metadata": {},
     "output_type": "display_data"
    }
   ],
   "source": [
    "# Calculate MAE\n",
    "mae_1 = mean_absolute_error(predictions_1, y_valid) # Your code here\n",
    "\n",
    "# Uncomment to print MAE\n",
    "# print(\"Mean Absolute Error:\" , mae_1)\n",
    "\n",
    "# Check your answer\n",
    "step_1.c.check()"
   ]
  },
  {
   "cell_type": "code",
   "execution_count": 8,
   "id": "fa100551",
   "metadata": {
    "execution": {
     "iopub.execute_input": "2022-04-29T15:47:54.554476Z",
     "iopub.status.busy": "2022-04-29T15:47:54.553985Z",
     "iopub.status.idle": "2022-04-29T15:47:54.559039Z",
     "shell.execute_reply": "2022-04-29T15:47:54.558498Z"
    },
    "papermill": {
     "duration": 0.034027,
     "end_time": "2022-04-29T15:47:54.560756",
     "exception": false,
     "start_time": "2022-04-29T15:47:54.526729",
     "status": "completed"
    },
    "tags": []
   },
   "outputs": [
    {
     "data": {
      "text/plain": [
       "17662.736729452055"
      ]
     },
     "execution_count": 8,
     "metadata": {},
     "output_type": "execute_result"
    }
   ],
   "source": [
    "mae_1"
   ]
  },
  {
   "cell_type": "code",
   "execution_count": 9,
   "id": "9b5a8860",
   "metadata": {
    "execution": {
     "iopub.execute_input": "2022-04-29T15:47:54.616025Z",
     "iopub.status.busy": "2022-04-29T15:47:54.615546Z",
     "iopub.status.idle": "2022-04-29T15:47:54.618419Z",
     "shell.execute_reply": "2022-04-29T15:47:54.617882Z"
    },
    "papermill": {
     "duration": 0.032716,
     "end_time": "2022-04-29T15:47:54.620257",
     "exception": false,
     "start_time": "2022-04-29T15:47:54.587541",
     "status": "completed"
    },
    "tags": []
   },
   "outputs": [],
   "source": [
    "# Lines below will give you a hint or solution code\n",
    "#step_1.c.hint()\n",
    "#step_1.c.solution()"
   ]
  },
  {
   "cell_type": "markdown",
   "id": "63c09bee",
   "metadata": {
    "papermill": {
     "duration": 0.026669,
     "end_time": "2022-04-29T15:47:54.674224",
     "exception": false,
     "start_time": "2022-04-29T15:47:54.647555",
     "status": "completed"
    },
    "tags": []
   },
   "source": [
    "# Step 2: Improve the model\n",
    "\n",
    "Now that you've trained a default model as baseline, it's time to tinker with the parameters, to see if you can get better performance!\n",
    "- Begin by setting `my_model_2` to an XGBoost model, using the [XGBRegressor](https://xgboost.readthedocs.io/en/latest/python/python_api.html#xgboost.XGBRegressor) class.  Use what you learned in the previous tutorial to figure out how to change the default parameters (like `n_estimators` and `learning_rate`) to get better results.\n",
    "- Then, fit the model to the training data in `X_train` and `y_train`.\n",
    "- Set `predictions_2` to the model's predictions for the validation data.  Recall that the validation features are stored in `X_valid`.\n",
    "- Finally, use the `mean_absolute_error()` function to calculate the mean absolute error (MAE) corresponding to the predictions on the validation set.  Recall that the labels for the validation data are stored in `y_valid`.\n",
    "\n",
    "In order for this step to be marked correct, your model in `my_model_2` must attain lower MAE than the model in `my_model_1`. "
   ]
  },
  {
   "cell_type": "code",
   "execution_count": 10,
   "id": "3d35eeac",
   "metadata": {
    "execution": {
     "iopub.execute_input": "2022-04-29T15:47:54.729830Z",
     "iopub.status.busy": "2022-04-29T15:47:54.729385Z",
     "iopub.status.idle": "2022-04-29T15:47:57.956525Z",
     "shell.execute_reply": "2022-04-29T15:47:57.955689Z"
    },
    "papermill": {
     "duration": 3.257526,
     "end_time": "2022-04-29T15:47:57.958703",
     "exception": false,
     "start_time": "2022-04-29T15:47:54.701177",
     "status": "completed"
    },
    "tags": []
   },
   "outputs": [
    {
     "name": "stdout",
     "output_type": "stream",
     "text": [
      "[0]\tvalidation_0-rmse:190309.27311\n",
      "[1]\tvalidation_0-rmse:181580.89978\n",
      "[2]\tvalidation_0-rmse:173377.75572\n",
      "[3]\tvalidation_0-rmse:165566.66246\n",
      "[4]\tvalidation_0-rmse:158257.42704\n",
      "[5]\tvalidation_0-rmse:151197.41161\n",
      "[6]\tvalidation_0-rmse:144560.07439\n",
      "[7]\tvalidation_0-rmse:138040.30826\n",
      "[8]\tvalidation_0-rmse:131965.82122\n",
      "[9]\tvalidation_0-rmse:126296.06611\n",
      "[10]\tvalidation_0-rmse:120776.16984\n",
      "[11]\tvalidation_0-rmse:115432.45888\n"
     ]
    },
    {
     "name": "stderr",
     "output_type": "stream",
     "text": [
      "/opt/conda/lib/python3.7/site-packages/xgboost/sklearn.py:797: UserWarning: `early_stopping_rounds` in `fit` method is deprecated for better compatibility with scikit-learn, use `early_stopping_rounds` in constructor or`set_params` instead.\n",
      "  UserWarning,\n"
     ]
    },
    {
     "name": "stdout",
     "output_type": "stream",
     "text": [
      "[12]\tvalidation_0-rmse:110737.27250\n",
      "[13]\tvalidation_0-rmse:106009.87085\n",
      "[14]\tvalidation_0-rmse:101745.64034\n",
      "[15]\tvalidation_0-rmse:97546.41477\n",
      "[16]\tvalidation_0-rmse:93823.49386\n",
      "[17]\tvalidation_0-rmse:90271.51654\n",
      "[18]\tvalidation_0-rmse:86875.27013\n",
      "[19]\tvalidation_0-rmse:83674.83615\n",
      "[20]\tvalidation_0-rmse:80660.31494\n",
      "[21]\tvalidation_0-rmse:77843.10206\n",
      "[22]\tvalidation_0-rmse:75228.12716\n",
      "[23]\tvalidation_0-rmse:72756.50754\n",
      "[24]\tvalidation_0-rmse:70473.09860\n",
      "[25]\tvalidation_0-rmse:68028.10508\n",
      "[26]\tvalidation_0-rmse:65990.36753\n",
      "[27]\tvalidation_0-rmse:64018.05020\n",
      "[28]\tvalidation_0-rmse:62036.74176\n",
      "[29]\tvalidation_0-rmse:60086.34166\n",
      "[30]\tvalidation_0-rmse:58495.96069\n",
      "[31]\tvalidation_0-rmse:56855.01156\n",
      "[32]\tvalidation_0-rmse:55310.38792\n",
      "[33]\tvalidation_0-rmse:53747.23224\n",
      "[34]\tvalidation_0-rmse:52577.72343\n",
      "[35]\tvalidation_0-rmse:51164.88499\n",
      "[36]\tvalidation_0-rmse:50135.95018\n",
      "[37]\tvalidation_0-rmse:49052.99344\n",
      "[38]\tvalidation_0-rmse:48172.56247\n",
      "[39]\tvalidation_0-rmse:47233.09564\n",
      "[40]\tvalidation_0-rmse:46413.99148\n",
      "[41]\tvalidation_0-rmse:45715.59321\n",
      "[42]\tvalidation_0-rmse:45075.17009\n",
      "[43]\tvalidation_0-rmse:44368.62852\n",
      "[44]\tvalidation_0-rmse:43740.30868\n",
      "[45]\tvalidation_0-rmse:43198.73085\n",
      "[46]\tvalidation_0-rmse:42687.53427\n",
      "[47]\tvalidation_0-rmse:42165.46103\n",
      "[48]\tvalidation_0-rmse:41742.30502\n",
      "[49]\tvalidation_0-rmse:41314.52741\n",
      "[50]\tvalidation_0-rmse:40912.02394\n",
      "[51]\tvalidation_0-rmse:40578.45672\n",
      "[52]\tvalidation_0-rmse:40135.35417\n",
      "[53]\tvalidation_0-rmse:39812.59565\n",
      "[54]\tvalidation_0-rmse:39552.56946\n",
      "[55]\tvalidation_0-rmse:39151.49855\n",
      "[56]\tvalidation_0-rmse:38884.49867\n",
      "[57]\tvalidation_0-rmse:38517.06886\n",
      "[58]\tvalidation_0-rmse:38220.00241\n",
      "[59]\tvalidation_0-rmse:38030.27017\n",
      "[60]\tvalidation_0-rmse:37749.97072\n",
      "[61]\tvalidation_0-rmse:37582.37421\n",
      "[62]\tvalidation_0-rmse:37383.68098\n",
      "[63]\tvalidation_0-rmse:37241.63663\n",
      "[64]\tvalidation_0-rmse:37057.30085\n",
      "[65]\tvalidation_0-rmse:36952.49908\n",
      "[66]\tvalidation_0-rmse:36783.47113\n",
      "[67]\tvalidation_0-rmse:36672.97422\n",
      "[68]\tvalidation_0-rmse:36564.72409\n",
      "[69]\tvalidation_0-rmse:36382.49968\n",
      "[70]\tvalidation_0-rmse:36297.64206\n",
      "[71]\tvalidation_0-rmse:36132.00573\n",
      "[72]\tvalidation_0-rmse:36059.39303\n",
      "[73]\tvalidation_0-rmse:35906.76559\n",
      "[74]\tvalidation_0-rmse:35765.68914\n",
      "[75]\tvalidation_0-rmse:35693.16900\n",
      "[76]\tvalidation_0-rmse:35558.73276\n",
      "[77]\tvalidation_0-rmse:35447.77306\n",
      "[78]\tvalidation_0-rmse:35320.82542\n",
      "[79]\tvalidation_0-rmse:35220.38073\n",
      "[80]\tvalidation_0-rmse:35108.00863\n",
      "[81]\tvalidation_0-rmse:35020.15843\n",
      "[82]\tvalidation_0-rmse:34905.44155\n",
      "[83]\tvalidation_0-rmse:34807.68206\n",
      "[84]\tvalidation_0-rmse:34706.99334\n",
      "[85]\tvalidation_0-rmse:34605.14251\n",
      "[86]\tvalidation_0-rmse:34575.69126\n",
      "[87]\tvalidation_0-rmse:34502.43243\n",
      "[88]\tvalidation_0-rmse:34475.04849\n",
      "[89]\tvalidation_0-rmse:34390.65242\n",
      "[90]\tvalidation_0-rmse:34301.40966\n",
      "[91]\tvalidation_0-rmse:34214.35789\n",
      "[92]\tvalidation_0-rmse:34220.12122\n",
      "[93]\tvalidation_0-rmse:34132.70016\n",
      "[94]\tvalidation_0-rmse:34147.07567\n",
      "[95]\tvalidation_0-rmse:34129.37362\n",
      "[96]\tvalidation_0-rmse:34048.61317\n",
      "[97]\tvalidation_0-rmse:34036.40905\n",
      "[98]\tvalidation_0-rmse:33961.56833\n",
      "[99]\tvalidation_0-rmse:33945.41611\n",
      "[100]\tvalidation_0-rmse:33881.32964\n",
      "[101]\tvalidation_0-rmse:33819.75820\n",
      "[102]\tvalidation_0-rmse:33762.46511\n",
      "[103]\tvalidation_0-rmse:33687.84437\n",
      "[104]\tvalidation_0-rmse:33657.92519\n",
      "[105]\tvalidation_0-rmse:33604.56821\n",
      "[106]\tvalidation_0-rmse:33562.47256\n",
      "[107]\tvalidation_0-rmse:33504.75238\n",
      "[108]\tvalidation_0-rmse:33482.04524\n",
      "[109]\tvalidation_0-rmse:33437.53633\n",
      "[110]\tvalidation_0-rmse:33431.07146\n",
      "[111]\tvalidation_0-rmse:33394.17748\n",
      "[112]\tvalidation_0-rmse:33346.67190\n",
      "[113]\tvalidation_0-rmse:33309.73804\n",
      "[114]\tvalidation_0-rmse:33295.41837\n",
      "[115]\tvalidation_0-rmse:33280.08790\n",
      "[116]\tvalidation_0-rmse:33275.77574\n",
      "[117]\tvalidation_0-rmse:33267.41838\n",
      "[118]\tvalidation_0-rmse:33262.13841\n",
      "[119]\tvalidation_0-rmse:33246.11830\n",
      "[120]\tvalidation_0-rmse:33241.26783\n",
      "[121]\tvalidation_0-rmse:33215.92578\n",
      "[122]\tvalidation_0-rmse:33218.37286\n",
      "[123]\tvalidation_0-rmse:33201.56841\n",
      "[124]\tvalidation_0-rmse:33166.91625\n",
      "[125]\tvalidation_0-rmse:33170.74631\n",
      "[126]\tvalidation_0-rmse:33189.56048\n",
      "[127]\tvalidation_0-rmse:33158.84656\n",
      "[128]\tvalidation_0-rmse:33127.34463\n",
      "[129]\tvalidation_0-rmse:33127.54350\n",
      "[130]\tvalidation_0-rmse:33114.08790\n",
      "[131]\tvalidation_0-rmse:33089.90131\n",
      "[132]\tvalidation_0-rmse:33072.12512\n",
      "[133]\tvalidation_0-rmse:33051.03893\n",
      "[134]\tvalidation_0-rmse:33027.88383\n",
      "[135]\tvalidation_0-rmse:33018.88605\n",
      "[136]\tvalidation_0-rmse:33013.17550\n",
      "[137]\tvalidation_0-rmse:33019.77724\n",
      "[138]\tvalidation_0-rmse:33015.83069\n",
      "[139]\tvalidation_0-rmse:32999.12380\n",
      "[140]\tvalidation_0-rmse:32993.99768\n",
      "[141]\tvalidation_0-rmse:32963.94179\n",
      "[142]\tvalidation_0-rmse:32960.81766\n",
      "[143]\tvalidation_0-rmse:32961.34784\n",
      "[144]\tvalidation_0-rmse:32965.43007\n",
      "[145]\tvalidation_0-rmse:32944.40396\n",
      "[146]\tvalidation_0-rmse:32941.66839\n",
      "[147]\tvalidation_0-rmse:32921.95750\n",
      "[148]\tvalidation_0-rmse:32912.15876\n",
      "[149]\tvalidation_0-rmse:32909.01991\n",
      "[150]\tvalidation_0-rmse:32896.79683\n",
      "[151]\tvalidation_0-rmse:32887.90264\n",
      "[152]\tvalidation_0-rmse:32881.08349\n",
      "[153]\tvalidation_0-rmse:32884.93162\n",
      "[154]\tvalidation_0-rmse:32866.45820\n",
      "[155]\tvalidation_0-rmse:32857.57338\n",
      "[156]\tvalidation_0-rmse:32853.70839\n",
      "[157]\tvalidation_0-rmse:32848.78725\n",
      "[158]\tvalidation_0-rmse:32837.70809\n",
      "[159]\tvalidation_0-rmse:32835.89926\n",
      "[160]\tvalidation_0-rmse:32826.76124\n",
      "[161]\tvalidation_0-rmse:32799.82144\n",
      "[162]\tvalidation_0-rmse:32790.89752\n",
      "[163]\tvalidation_0-rmse:32773.92659\n",
      "[164]\tvalidation_0-rmse:32767.16009\n",
      "[165]\tvalidation_0-rmse:32760.91842\n",
      "[166]\tvalidation_0-rmse:32761.60252\n",
      "[167]\tvalidation_0-rmse:32750.71798\n",
      "[168]\tvalidation_0-rmse:32750.55485\n",
      "[169]\tvalidation_0-rmse:32734.04811\n",
      "[170]\tvalidation_0-rmse:32734.27397\n",
      "[171]\tvalidation_0-rmse:32728.68571\n",
      "[172]\tvalidation_0-rmse:32717.90898\n",
      "[173]\tvalidation_0-rmse:32718.58942\n",
      "[174]\tvalidation_0-rmse:32709.81448\n",
      "[175]\tvalidation_0-rmse:32689.42930\n",
      "[176]\tvalidation_0-rmse:32674.01780\n",
      "[177]\tvalidation_0-rmse:32662.62851\n",
      "[178]\tvalidation_0-rmse:32656.54124\n",
      "[179]\tvalidation_0-rmse:32645.63703\n",
      "[180]\tvalidation_0-rmse:32638.09629\n",
      "[181]\tvalidation_0-rmse:32630.00994\n",
      "[182]\tvalidation_0-rmse:32629.16431\n",
      "[183]\tvalidation_0-rmse:32619.08848\n",
      "[184]\tvalidation_0-rmse:32608.64300\n",
      "[185]\tvalidation_0-rmse:32602.22644\n",
      "[186]\tvalidation_0-rmse:32592.40960\n",
      "[187]\tvalidation_0-rmse:32585.49456\n",
      "[188]\tvalidation_0-rmse:32588.74552\n",
      "[189]\tvalidation_0-rmse:32580.72379\n",
      "[190]\tvalidation_0-rmse:32583.21805\n",
      "[191]\tvalidation_0-rmse:32583.54118\n",
      "[192]\tvalidation_0-rmse:32584.53559\n",
      "[193]\tvalidation_0-rmse:32582.28372\n",
      "[194]\tvalidation_0-rmse:32571.69317\n",
      "[195]\tvalidation_0-rmse:32561.22099\n",
      "[196]\tvalidation_0-rmse:32559.17642\n",
      "[197]\tvalidation_0-rmse:32554.32324\n",
      "[198]\tvalidation_0-rmse:32552.84254\n",
      "[199]\tvalidation_0-rmse:32548.28374\n",
      "[200]\tvalidation_0-rmse:32552.05530\n",
      "[201]\tvalidation_0-rmse:32552.92795\n",
      "[202]\tvalidation_0-rmse:32551.40644\n",
      "[203]\tvalidation_0-rmse:32546.49656\n",
      "[204]\tvalidation_0-rmse:32541.10517\n",
      "[205]\tvalidation_0-rmse:32539.38000\n",
      "[206]\tvalidation_0-rmse:32539.02116\n",
      "[207]\tvalidation_0-rmse:32538.48334\n",
      "[208]\tvalidation_0-rmse:32541.25086\n",
      "[209]\tvalidation_0-rmse:32540.94437\n",
      "[210]\tvalidation_0-rmse:32536.00553\n",
      "[211]\tvalidation_0-rmse:32539.01654\n",
      "[212]\tvalidation_0-rmse:32537.40622\n",
      "[213]\tvalidation_0-rmse:32536.13207\n",
      "[214]\tvalidation_0-rmse:32531.56263\n",
      "[215]\tvalidation_0-rmse:32528.05328\n",
      "[216]\tvalidation_0-rmse:32530.81741\n",
      "[217]\tvalidation_0-rmse:32528.21229\n",
      "[218]\tvalidation_0-rmse:32532.52913\n",
      "[219]\tvalidation_0-rmse:32530.52192\n",
      "[220]\tvalidation_0-rmse:32528.23729\n",
      "16802.965325342466\n"
     ]
    },
    {
     "data": {
      "application/javascript": [
       "parent.postMessage({\"jupyterEvent\": \"custom.exercise_interaction\", \"data\": {\"outcomeType\": 1, \"valueTowardsCompletion\": 0.5, \"interactionType\": 1, \"questionType\": 2, \"questionId\": \"2_Model2\", \"learnToolsVersion\": \"0.3.4\", \"failureMessage\": \"\", \"exceptionClass\": \"\", \"trace\": \"\"}}, \"*\")"
      ],
      "text/plain": [
       "<IPython.core.display.Javascript object>"
      ]
     },
     "metadata": {},
     "output_type": "display_data"
    },
    {
     "data": {
      "text/markdown": [
       "<span style=\"color:#33cc33\">Correct</span>"
      ],
      "text/plain": [
       "Correct"
      ]
     },
     "metadata": {},
     "output_type": "display_data"
    }
   ],
   "source": [
    "# Define the model\n",
    "my_model_2 = XGBRegressor(random_state=0, n_estimators = 300, learning_rate=0.05) # Your code here\n",
    "\n",
    "# Fit the model\n",
    "my_model_2.fit(X_train, y_train, early_stopping_rounds=5,\n",
    "              eval_set = [(X_valid, y_valid)]) # Your code here\n",
    "\n",
    "# Get predictions\n",
    "predictions_2 = my_model_2.predict(X_valid) # Your code here\n",
    "\n",
    "# Calculate MAE\n",
    "mae_2 = mean_absolute_error(y_valid, predictions_2) # Your code here\n",
    "\n",
    "print(mae_2)\n",
    "# Uncomment to print MAE\n",
    "# print(\"Mean Absolute Error:\" , mae_2)\n",
    "\n",
    "# Check your answer\n",
    "step_2.check()"
   ]
  },
  {
   "cell_type": "code",
   "execution_count": 11,
   "id": "74e68ae7",
   "metadata": {
    "execution": {
     "iopub.execute_input": "2022-04-29T15:47:58.206788Z",
     "iopub.status.busy": "2022-04-29T15:47:58.205760Z",
     "iopub.status.idle": "2022-04-29T15:47:58.214328Z",
     "shell.execute_reply": "2022-04-29T15:47:58.213553Z"
    },
    "papermill": {
     "duration": 0.133019,
     "end_time": "2022-04-29T15:47:58.216510",
     "exception": false,
     "start_time": "2022-04-29T15:47:58.083491",
     "status": "completed"
    },
    "tags": []
   },
   "outputs": [
    {
     "data": {
      "text/plain": [
       "16802.965325342466"
      ]
     },
     "execution_count": 11,
     "metadata": {},
     "output_type": "execute_result"
    }
   ],
   "source": [
    "# Lines below will give you a hint or solution code\n",
    "#step_2.hint()\n",
    "#step_2.solution()\n",
    "17669.81100171233\n",
    "17699.13936750856\n",
    "16802.965325342466"
   ]
  },
  {
   "cell_type": "markdown",
   "id": "2fe9be41",
   "metadata": {
    "papermill": {
     "duration": 0.121407,
     "end_time": "2022-04-29T15:47:58.459737",
     "exception": false,
     "start_time": "2022-04-29T15:47:58.338330",
     "status": "completed"
    },
    "tags": []
   },
   "source": [
    "# Step 3: Break the model\n",
    "\n",
    "In this step, you will create a model that performs worse than the original model in Step 1.  This will help you to develop your intuition for how to set parameters.  You might even find that you accidentally get better performance, which is ultimately a nice problem to have and a valuable learning experience!\n",
    "- Begin by setting `my_model_3` to an XGBoost model, using the [XGBRegressor](https://xgboost.readthedocs.io/en/latest/python/python_api.html#xgboost.XGBRegressor) class.  Use what you learned in the previous tutorial to figure out how to change the default parameters (like `n_estimators` and `learning_rate`) to design a model to get high MAE.\n",
    "- Then, fit the model to the training data in `X_train` and `y_train`.\n",
    "- Set `predictions_3` to the model's predictions for the validation data.  Recall that the validation features are stored in `X_valid`.\n",
    "- Finally, use the `mean_absolute_error()` function to calculate the mean absolute error (MAE) corresponding to the predictions on the validation set.  Recall that the labels for the validation data are stored in `y_valid`.\n",
    "\n",
    "In order for this step to be marked correct, your model in `my_model_3` must attain higher MAE than the model in `my_model_1`. "
   ]
  },
  {
   "cell_type": "code",
   "execution_count": 12,
   "id": "2ec4a707",
   "metadata": {
    "execution": {
     "iopub.execute_input": "2022-04-29T15:47:58.704918Z",
     "iopub.status.busy": "2022-04-29T15:47:58.703982Z",
     "iopub.status.idle": "2022-04-29T15:48:08.466217Z",
     "shell.execute_reply": "2022-04-29T15:48:08.465508Z"
    },
    "papermill": {
     "duration": 9.886185,
     "end_time": "2022-04-29T15:48:08.468205",
     "exception": false,
     "start_time": "2022-04-29T15:47:58.582020",
     "status": "completed"
    },
    "tags": []
   },
   "outputs": [
    {
     "data": {
      "application/javascript": [
       "parent.postMessage({\"jupyterEvent\": \"custom.exercise_interaction\", \"data\": {\"outcomeType\": 1, \"valueTowardsCompletion\": 0.5, \"interactionType\": 1, \"questionType\": 2, \"questionId\": \"3_Model3\", \"learnToolsVersion\": \"0.3.4\", \"failureMessage\": \"\", \"exceptionClass\": \"\", \"trace\": \"\"}}, \"*\")"
      ],
      "text/plain": [
       "<IPython.core.display.Javascript object>"
      ]
     },
     "metadata": {},
     "output_type": "display_data"
    },
    {
     "data": {
      "text/markdown": [
       "<span style=\"color:#33cc33\">Correct</span>"
      ],
      "text/plain": [
       "Correct"
      ]
     },
     "metadata": {},
     "output_type": "display_data"
    }
   ],
   "source": [
    "# Define the model\n",
    "my_model_3 = XGBRegressor(random_state=0,n_estimators=1000)\n",
    "\n",
    "# Fit the model\n",
    "my_model_3.fit(X_train, y_train) # Your code here\n",
    "\n",
    "# Get predictions\n",
    "predictions_3 =my_model_3.predict(X_valid)\n",
    "\n",
    "# Calculate MAE\n",
    "mae_3 = mean_absolute_error(predictions_3, y_valid)\n",
    "\n",
    "# Uncomment to print MAE\n",
    "# print(\"Mean Absolute Error:\" , mae_3)\n",
    "\n",
    "# Check your answer\n",
    "step_3.check()"
   ]
  },
  {
   "cell_type": "code",
   "execution_count": 13,
   "id": "3cb929e7",
   "metadata": {
    "execution": {
     "iopub.execute_input": "2022-04-29T15:48:08.717115Z",
     "iopub.status.busy": "2022-04-29T15:48:08.716851Z",
     "iopub.status.idle": "2022-04-29T15:48:08.729858Z",
     "shell.execute_reply": "2022-04-29T15:48:08.729002Z"
    },
    "papermill": {
     "duration": 0.139621,
     "end_time": "2022-04-29T15:48:08.731999",
     "exception": false,
     "start_time": "2022-04-29T15:48:08.592378",
     "status": "completed"
    },
    "tags": []
   },
   "outputs": [],
   "source": [
    "X_train_valid = pd.concat([X_train, X_valid], axis=0)\n",
    "y_train_valid = pd.concat([y_train, y_valid], axis=0)"
   ]
  },
  {
   "cell_type": "code",
   "execution_count": 14,
   "id": "3e479417",
   "metadata": {
    "execution": {
     "iopub.execute_input": "2022-04-29T15:48:08.982653Z",
     "iopub.status.busy": "2022-04-29T15:48:08.982097Z",
     "iopub.status.idle": "2022-04-29T15:48:12.254067Z",
     "shell.execute_reply": "2022-04-29T15:48:12.253361Z"
    },
    "papermill": {
     "duration": 3.399399,
     "end_time": "2022-04-29T15:48:12.256367",
     "exception": false,
     "start_time": "2022-04-29T15:48:08.856968",
     "status": "completed"
    },
    "tags": []
   },
   "outputs": [],
   "source": [
    "\n",
    "\n",
    "my_model_2 = XGBRegressor(random_state=0, n_estimators = 300, learning_rate=0.05) # Your code here\n",
    "\n",
    "my_model_2.fit(X_train_valid, y_train_valid)\n",
    "predictions_test = my_model_2.predict(X_test) # Your code here\n"
   ]
  },
  {
   "cell_type": "code",
   "execution_count": 15,
   "id": "11ca0a1c",
   "metadata": {
    "execution": {
     "iopub.execute_input": "2022-04-29T15:48:12.504279Z",
     "iopub.status.busy": "2022-04-29T15:48:12.503676Z",
     "iopub.status.idle": "2022-04-29T15:48:12.515898Z",
     "shell.execute_reply": "2022-04-29T15:48:12.515170Z"
    },
    "papermill": {
     "duration": 0.137295,
     "end_time": "2022-04-29T15:48:12.517851",
     "exception": false,
     "start_time": "2022-04-29T15:48:12.380556",
     "status": "completed"
    },
    "tags": []
   },
   "outputs": [],
   "source": [
    "output = pd.DataFrame({'Id': X_test.index,\n",
    "                       'SalePrice': predictions_test})\n",
    "output.to_csv('submission.csv', index=False)"
   ]
  },
  {
   "cell_type": "code",
   "execution_count": 16,
   "id": "719325f6",
   "metadata": {
    "execution": {
     "iopub.execute_input": "2022-04-29T15:48:12.764741Z",
     "iopub.status.busy": "2022-04-29T15:48:12.764205Z",
     "iopub.status.idle": "2022-04-29T15:48:12.767174Z",
     "shell.execute_reply": "2022-04-29T15:48:12.766634Z"
    },
    "papermill": {
     "duration": 0.128616,
     "end_time": "2022-04-29T15:48:12.768913",
     "exception": false,
     "start_time": "2022-04-29T15:48:12.640297",
     "status": "completed"
    },
    "tags": []
   },
   "outputs": [],
   "source": [
    "# Lines below will give you a hint or solution code\n",
    "#step_3.hint()\n",
    "#step_3.solution()"
   ]
  },
  {
   "cell_type": "markdown",
   "id": "15a4622e",
   "metadata": {
    "papermill": {
     "duration": 0.123381,
     "end_time": "2022-04-29T15:48:13.014680",
     "exception": false,
     "start_time": "2022-04-29T15:48:12.891299",
     "status": "completed"
    },
    "tags": []
   },
   "source": [
    "# Keep going\n",
    "\n",
    "Continue to learn about **[data leakage](https://www.kaggle.com/alexisbcook/data-leakage)**.  This is an important issue for a data scientist to understand, and it has the potential to ruin your models in subtle and dangerous ways!"
   ]
  },
  {
   "cell_type": "markdown",
   "id": "cc49d7ed",
   "metadata": {
    "papermill": {
     "duration": 0.1223,
     "end_time": "2022-04-29T15:48:13.260554",
     "exception": false,
     "start_time": "2022-04-29T15:48:13.138254",
     "status": "completed"
    },
    "tags": []
   },
   "source": [
    "---\n",
    "\n",
    "\n",
    "\n",
    "\n",
    "*Have questions or comments? Visit the [course discussion forum](https://www.kaggle.com/learn/intermediate-machine-learning/discussion) to chat with other learners.*"
   ]
  }
 ],
 "metadata": {
  "kernelspec": {
   "display_name": "Python 3",
   "language": "python",
   "name": "python3"
  },
  "language_info": {
   "codemirror_mode": {
    "name": "ipython",
    "version": 3
   },
   "file_extension": ".py",
   "mimetype": "text/x-python",
   "name": "python",
   "nbconvert_exporter": "python",
   "pygments_lexer": "ipython3",
   "version": "3.7.12"
  },
  "papermill": {
   "default_parameters": {},
   "duration": 33.889369,
   "end_time": "2022-04-29T15:48:14.102455",
   "environment_variables": {},
   "exception": null,
   "input_path": "__notebook__.ipynb",
   "output_path": "__notebook__.ipynb",
   "parameters": {},
   "start_time": "2022-04-29T15:47:40.213086",
   "version": "2.3.4"
  }
 },
 "nbformat": 4,
 "nbformat_minor": 5
}
